{
 "cells": [
  {
   "cell_type": "code",
   "execution_count": null,
   "metadata": {},
   "outputs": [],
   "source": [
    "%load_ext autoreload\n",
    "%autoreload 2\n",
    "\n",
    "from IPython.display import display, HTML\n",
    "from IPython.core.interactiveshell import InteractiveShell\n",
    "InteractiveShell.ast_node_interactivity = \"all\""
   ]
  },
  {
   "cell_type": "code",
   "execution_count": null,
   "metadata": {},
   "outputs": [],
   "source": [
    "import report\n",
    "report.init_display()"
   ]
  },
  {
   "cell_type": "code",
   "execution_count": null,
   "metadata": {},
   "outputs": [],
   "source": [
    "import config\n",
    "YAML = 'sample.yaml'\n",
    "#YAML = 'shahvir.yaml'\n",
    "cfg = config.load_yaml(YAML)"
   ]
  },
  {
   "cell_type": "markdown",
   "metadata": {},
   "source": [
    "# Security Categorization"
   ]
  },
  {
   "cell_type": "code",
   "execution_count": null,
   "metadata": {},
   "outputs": [],
   "source": [
    "import securities\n",
    "df = securities.symbol_categories_df(cfg)\n",
    "#df['Last Price'] = [securities.price(s) for s in df['Symbol']]\n",
    "df['Price'] = df.apply(lambda x: securities.price(x.name, raises=True), axis=1)\n",
    "report.print_df(df)"
   ]
  },
  {
   "cell_type": "markdown",
   "metadata": {},
   "source": [
    "# Accounts"
   ]
  },
  {
   "cell_type": "code",
   "execution_count": null,
   "metadata": {},
   "outputs": [],
   "source": [
    "report.accounts_report(cfg)"
   ]
  },
  {
   "cell_type": "markdown",
   "metadata": {},
   "source": [
    "# Portfolios"
   ]
  },
  {
   "cell_type": "code",
   "execution_count": null,
   "metadata": {},
   "outputs": [],
   "source": [
    "def portfolio_target_comparison(target, pdf):\n",
    "    dedupe = pdf.groupby(['Symbol', 'Category']).sum().reset_index()\n",
    "    #report.print_df(dedupe.reset_index())\n",
    "    compare = dedupe.pivot(index='Category', columns='Symbol', values=['Value', 'Weight'])\n",
    "    compare['Value', 'Total'] = compare['Value'].sum(axis=1)\n",
    "    compare['Weight', 'Total'] = compare['Weight'].sum(axis=1)\n",
    "    compare['Weight', 'Error'] = compare['Weight','Total'] - [target['holdings']['category_weighted'][name] for name in compare.index]\n",
    "    compare['Value', 'Error'] = compare['Weight', 'Error'] * compare['Value', 'Total']\n",
    "    #TODO reorder Value and Weight total columns\n",
    "    return compare\n",
    "\n",
    "\n",
    "report.portfolio_target_comparison = portfolio_target_comparison"
   ]
  },
  {
   "cell_type": "code",
   "execution_count": null,
   "metadata": {},
   "outputs": [],
   "source": [
    "report.portfolios_report(cfg)"
   ]
  },
  {
   "cell_type": "raw",
   "metadata": {},
   "source": [
    "for name in cfg['accounts']:\n",
    "    acct = cfg['accounts'][name]\n",
    "    acct_df = account_securities_df(cfg, acct['holdings']['securities'])\n",
    "    categories = account_categories_df(acct_df)\n",
    "    "
   ]
  },
  {
   "cell_type": "raw",
   "metadata": {},
   "source": [
    "import cufflinks as cf\n",
    "df = pd.DataFrame(np.random.randn(1000, 2), columns=['A', 'B']).cumsum()\n",
    "df.iplot(filename='cufflinks/line-example')\n",
    "\n"
   ]
  }
 ],
 "metadata": {
  "kernelspec": {
   "display_name": "PortfolioAllocation",
   "language": "python",
   "name": "portfolioallocation"
  },
  "language_info": {
   "codemirror_mode": {
    "name": "ipython",
    "version": 3
   },
   "file_extension": ".py",
   "mimetype": "text/x-python",
   "name": "python",
   "nbconvert_exporter": "python",
   "pygments_lexer": "ipython3",
   "version": "3.6.1"
  }
 },
 "nbformat": 4,
 "nbformat_minor": 2
}
